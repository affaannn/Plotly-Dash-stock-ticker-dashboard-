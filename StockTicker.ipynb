{
 "cells": [
  {
   "cell_type": "markdown",
   "id": "ef2bfb16",
   "metadata": {},
   "source": [
    "# Milestone Project #1"
   ]
  },
  {
   "cell_type": "code",
   "execution_count": 1,
   "id": "3a584343",
   "metadata": {},
   "outputs": [],
   "source": [
    "import dash\n",
    "from dash import dcc\n",
    "from dash import html\n",
    "import plotly.graph_objs as pgo\n",
    "import numpy as np\n",
    "import pandas as pd\n",
    "from dash.dependencies import Input, Output, State"
   ]
  },
  {
   "cell_type": "code",
   "execution_count": null,
   "id": "34245d13",
   "metadata": {},
   "outputs": [],
   "source": [
    "!pip install pandas-datareader"
   ]
  },
  {
   "cell_type": "code",
   "execution_count": 2,
   "id": "d9c37e9a",
   "metadata": {},
   "outputs": [],
   "source": [
    "import pandas_datareader.data as pdd\n",
    "from datetime import datetime"
   ]
  },
  {
   "cell_type": "code",
   "execution_count": 3,
   "id": "1bfc65f5",
   "metadata": {},
   "outputs": [],
   "source": [
    "import os\n",
    "os.environ[\"IEX_API_KEY\"] = \"pk_e124697d80704446893c52da182883c8\" "
   ]
  },
  {
   "cell_type": "code",
   "execution_count": null,
   "id": "e97f7cef",
   "metadata": {
    "scrolled": true
   },
   "outputs": [
    {
     "name": "stdout",
     "output_type": "stream",
     "text": [
      "Dash is running on http://127.0.0.1:8050/\n",
      "\n",
      "Dash is running on http://127.0.0.1:8050/\n",
      "\n",
      "Dash is running on http://127.0.0.1:8050/\n",
      "\n",
      "Dash is running on http://127.0.0.1:8050/\n",
      "\n",
      " * Serving Flask app \"__main__\" (lazy loading)\n",
      " * Environment: production\n",
      "\u001b[31m   WARNING: This is a development server. Do not use it in a production deployment.\u001b[0m\n",
      "\u001b[2m   Use a production WSGI server instead.\u001b[0m\n",
      " * Debug mode: off\n"
     ]
    },
    {
     "name": "stderr",
     "output_type": "stream",
     "text": [
      " * Running on http://127.0.0.1:8050/ (Press CTRL+C to quit)\n",
      "127.0.0.1 - - [04/Jan/2023 01:01:18] \"GET / HTTP/1.1\" 200 -\n",
      "127.0.0.1 - - [04/Jan/2023 01:01:22] \"GET /_dash-layout HTTP/1.1\" 200 -\n",
      "127.0.0.1 - - [04/Jan/2023 01:01:22] \"GET /_dash-dependencies HTTP/1.1\" 200 -\n",
      "127.0.0.1 - - [04/Jan/2023 01:01:22] \"GET /_dash-component-suites/dash/dcc/async-datepicker.js HTTP/1.1\" 200 -\n",
      "127.0.0.1 - - [04/Jan/2023 01:01:22] \"GET /_dash-component-suites/dash/dcc/async-graph.js HTTP/1.1\" 200 -\n",
      "127.0.0.1 - - [04/Jan/2023 01:01:22] \"GET /_dash-component-suites/dash/dcc/async-plotlyjs.js HTTP/1.1\" 200 -\n",
      "127.0.0.1 - - [04/Jan/2023 01:01:25] \"POST /_dash-update-component HTTP/1.1\" 200 -\n",
      "127.0.0.1 - - [04/Jan/2023 01:01:54] \"POST /_dash-update-component HTTP/1.1\" 200 -\n",
      "127.0.0.1 - - [04/Jan/2023 01:01:57] \"POST /_dash-update-component HTTP/1.1\" 200 -\n",
      "127.0.0.1 - - [04/Jan/2023 01:02:21] \"POST /_dash-update-component HTTP/1.1\" 200 -\n",
      "127.0.0.1 - - [04/Jan/2023 01:02:23] \"POST /_dash-update-component HTTP/1.1\" 200 -\n",
      "127.0.0.1 - - [04/Jan/2023 01:02:43] \"POST /_dash-update-component HTTP/1.1\" 200 -\n",
      "127.0.0.1 - - [04/Jan/2023 01:03:45] \"POST /_dash-update-component HTTP/1.1\" 200 -\n",
      "127.0.0.1 - - [04/Jan/2023 01:04:13] \"GET / HTTP/1.1\" 200 -\n",
      "127.0.0.1 - - [04/Jan/2023 01:04:15] \"GET /_dash-layout HTTP/1.1\" 200 -\n",
      "127.0.0.1 - - [04/Jan/2023 01:04:15] \"GET /_dash-dependencies HTTP/1.1\" 200 -\n",
      "127.0.0.1 - - [04/Jan/2023 01:04:15] \"GET /_favicon.ico?v=2.7.0 HTTP/1.1\" 200 -\n",
      "127.0.0.1 - - [04/Jan/2023 01:04:15] \"GET /_dash-component-suites/dash/dcc/async-plotlyjs.js HTTP/1.1\" 200 -\n",
      "127.0.0.1 - - [04/Jan/2023 01:04:15] \"GET /_dash-component-suites/dash/dcc/async-graph.js HTTP/1.1\" 200 -\n",
      "127.0.0.1 - - [04/Jan/2023 01:04:15] \"GET /_dash-component-suites/dash/dcc/async-datepicker.js HTTP/1.1\" 200 -\n",
      "127.0.0.1 - - [04/Jan/2023 01:04:18] \"POST /_dash-update-component HTTP/1.1\" 200 -\n"
     ]
    }
   ],
   "source": [
    "\n",
    "\n",
    "app=dash.Dash()\n",
    "\n",
    "app.layout= html.Div([\n",
    "                html.H1('Stock Ticker Dashboard'),\n",
    "                html.Div([html.H2('Enter a stock symbol:',style={'paddingRight':'30px'}),\n",
    "                          dcc.Input(id='my_stock_picker',\n",
    "                                    value='TSLA',\n",
    "                                    style={'fontSize':24,'width':75})],\n",
    "                        style={'display':'inline-block','verticalAlign':'top'}),\n",
    "            html.Div([\n",
    "                    html.H3('Select a start and end date:'),\n",
    "                    dcc.DatePickerRange(id='my_date_picker',\n",
    "                                       min_date_allowed=datetime(2015,1,1),\n",
    "                                       max_date_allowed=datetime.today(),\n",
    "                                       start_date=datetime(2018,1,1),\n",
    "                                       end_date=datetime.today())\n",
    "            ],style={'display':'inline-block'}),\n",
    "            html.Div([\n",
    "                html.Button(id='submit-button',n_clicks=0,children='Submit',style={'fontSize':24,'marginLeft':'30px'} )\n",
    "            ],style={'display':'inline-block'}),\n",
    "                \n",
    "                dcc.Graph(id='my_graph',\n",
    "                          figure={'data':[{'x':[1,2],'y':[2,1]}]}\n",
    "                                  )\n",
    "                \n",
    "            ])\n",
    "\n",
    "@app.callback(Output('my_graph','figure'),\n",
    "              [Input('submit-button','n_clicks')],\n",
    "             [State('my_stock_picker','value'),\n",
    "              State('my_date_picker','start_date'),\n",
    "              State('my_date_picker','end_date')])\n",
    "def stock_update(n_clicks,stock_ticker,start_date,end_date):\n",
    "    start=datetime.strptime(start_date[:10],'%Y-%m-%d')\n",
    "    end=datetime.strptime(end_date[:10],'%Y-%m-%d')\n",
    "    df=pdd.DataReader(stock_ticker,'iex',start,end)\n",
    "    fig={'data':[{'x':df.index,'y':df['close']}],\n",
    "        'layout':{'title': stock_ticker}\n",
    "        \n",
    "    }\n",
    "    return fig\n",
    "\n",
    "if __name__ == '__main__':\n",
    "    app.run_server()\n"
   ]
  },
  {
   "cell_type": "code",
   "execution_count": null,
   "id": "ab1d0aa6",
   "metadata": {},
   "outputs": [],
   "source": []
  }
 ],
 "metadata": {
  "kernelspec": {
   "display_name": "Python 3 (ipykernel)",
   "language": "python",
   "name": "python3"
  },
  "language_info": {
   "codemirror_mode": {
    "name": "ipython",
    "version": 3
   },
   "file_extension": ".py",
   "mimetype": "text/x-python",
   "name": "python",
   "nbconvert_exporter": "python",
   "pygments_lexer": "ipython3",
   "version": "3.9.12"
  }
 },
 "nbformat": 4,
 "nbformat_minor": 5
}
